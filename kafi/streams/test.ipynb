{
 "cells": [
  {
   "cell_type": "code",
   "execution_count": 2,
   "id": "ed8838a2",
   "metadata": {},
   "outputs": [],
   "source": [
    "import os\n",
    "os.chdir(\"/home/ralph/kafka/pydbsp\")"
   ]
  },
  {
   "cell_type": "code",
   "execution_count": 30,
   "id": "5cf34315",
   "metadata": {},
   "outputs": [
    {
     "name": "stdout",
     "output_type": "stream",
     "text": [
      "Regular join: [(0, 'kristjan', '38750'), (1, 'mark', '50000'), (2, 'mike', '40000')]\n"
     ]
    }
   ],
   "source": [
    "def regular_join(left, right):\n",
    "    output = []\n",
    "    for left_key, left_value in left:\n",
    "        for right_key, right_value in right:\n",
    "            if left_key == right_key:\n",
    "                output.append((left_key, left_value, right_value))\n",
    "    return output\n",
    "\n",
    "employees = [(0, \"kristjan\"), (1, \"mark\"), (2, \"mike\")]\n",
    "salaries = [(2, \"40000\"), (0, \"38750\"), (1, \"50000\")]\n",
    "\n",
    "employees_salaries = regular_join(employees, salaries)\n",
    "\n",
    "print(f\"Regular join: {employees_salaries}\")"
   ]
  },
  {
   "cell_type": "code",
   "execution_count": 31,
   "id": "3cdf4e4e",
   "metadata": {},
   "outputs": [
    {
     "name": "stdout",
     "output_type": "stream",
     "text": [
      "ZSet join: {(0, 'kristjan', '38750'): 1, (1, 'mark', '50000'): 1, (2, 'mike', '40000'): 1}\n"
     ]
    }
   ],
   "source": [
    "from pydbsp.zset import ZSet\n",
    "from pydbsp.zset.functions.bilinear import join\n",
    "\n",
    "employees_zset = ZSet({k: 1 for k in employees})\n",
    "salaries_zset = ZSet({k: 1 for k in salaries})\n",
    "\n",
    "employees_salaries_zset = join(\n",
    "    employees_zset,\n",
    "    salaries_zset,\n",
    "    lambda left, right: left[0] == right[0],\n",
    "    lambda left, right: (left[0], left[1], right[1])\n",
    ")\n",
    "\n",
    "print(f\"ZSet join: {employees_salaries_zset}\")"
   ]
  },
  {
   "cell_type": "code",
   "execution_count": 32,
   "id": "75ffdec2",
   "metadata": {},
   "outputs": [
    {
     "name": "stdout",
     "output_type": "stream",
     "text": [
      "ZSet stream join: {(0, 'kristjan', '38750'): 1, (1, 'mark', '50000'): 1, (2, 'mike', '40000'): 1}\n"
     ]
    }
   ],
   "source": [
    "from pydbsp.zset import ZSetAddition\n",
    "from pydbsp.stream import Stream, StreamHandle\n",
    "from pydbsp.stream.operators.linear import Integrate\n",
    "from pydbsp.zset.operators.bilinear import LiftedJoin\n",
    "\n",
    "group = ZSetAddition()\n",
    "employees_stream = Stream(group)\n",
    "employees_stream_handle = StreamHandle(lambda: employees_stream)\n",
    "employees_stream.send(employees_zset)\n",
    "\n",
    "salaries_stream = Stream(group)\n",
    "salaries_stream_handle = StreamHandle(lambda: salaries_stream)\n",
    "salaries_stream.send(salaries_zset)\n",
    "\n",
    "join_cmp = lambda left, right: left[0] == right[0]\n",
    "join_projection = lambda left, right: (left[0], left[1], right[1])\n",
    "\n",
    "integrated_employees = Integrate(employees_stream_handle)\n",
    "integrated_salaries = Integrate(salaries_stream_handle)\n",
    "stream_join = LiftedJoin(\n",
    "    integrated_employees.output_handle(),\n",
    "    integrated_salaries.output_handle(),\n",
    "    join_cmp,\n",
    "    join_projection\n",
    ")\n",
    "integrated_employees.step()\n",
    "integrated_salaries.step()\n",
    "stream_join.step()\n",
    "print(f\"ZSet stream join: {stream_join.output().latest()}\")\n"
   ]
  },
  {
   "cell_type": "code",
   "execution_count": 33,
   "id": "dca7313f",
   "metadata": {},
   "outputs": [
    {
     "name": "stdout",
     "output_type": "stream",
     "text": [
      "Incremental ZSet stream join: {(0, 'kristjan', '38750'): 1, (1, 'mark', '50000'): 1, (2, 'mike', '40000'): 1}\n"
     ]
    }
   ],
   "source": [
    "from pydbsp.stream.operators.bilinear import Incrementalize2\n",
    "\n",
    "incremental_stream_join = Incrementalize2(\n",
    "    employees_stream_handle,\n",
    "    salaries_stream_handle,\n",
    "    lambda left, right: join(left, right, join_cmp, join_projection),\n",
    "    group\n",
    ")\n",
    "incremental_stream_join.step()\n",
    "print(f\"Incremental ZSet stream join: {incremental_stream_join.output().latest()}\")\n"
   ]
  },
  {
   "cell_type": "code",
   "execution_count": 34,
   "id": "acdad130",
   "metadata": {},
   "outputs": [
    {
     "name": "stdout",
     "output_type": "stream",
     "text": [
      "Incremental ZSet stream join update: {(2, 'mike', '40000'): -1}\n"
     ]
    }
   ],
   "source": [
    "employees_stream.send(ZSet({(2, \"mike\"): -1}))\n",
    "incremental_stream_join.step()\n",
    "print(f\"Incremental ZSet stream join update: {incremental_stream_join.output().latest()}\")"
   ]
  },
  {
   "cell_type": "code",
   "execution_count": 35,
   "id": "1a5f5ebc",
   "metadata": {},
   "outputs": [
    {
     "name": "stdout",
     "output_type": "stream",
     "text": [
      "Incremental indexed ZSet stream join: {(0, 'kristjan', '38750'): 1, (1, 'mark', '50000'): 1, (2, 'mike', '40000'): 1}\n"
     ]
    }
   ],
   "source": [
    "from pydbsp.indexed_zset.functions.bilinear import join_with_index\n",
    "from pydbsp.indexed_zset.operators.linear import LiftedIndex\n",
    "\n",
    "indexer = lambda x: x[0]\n",
    "index_employees = LiftedIndex(employees_stream_handle, indexer)\n",
    "index_salaries = LiftedIndex(salaries_stream_handle, indexer)\n",
    "join_with_indexing_projection = lambda key, left_value, right_value: (key, left_value[1], right_value[1])\n",
    "incremental_sort_merge_join = Incrementalize2(index_employees.output_handle(), index_salaries.output_handle(), lambda l, r: join_with_index(l, r, join_with_indexing_projection), group)\n",
    "index_employees.step()\n",
    "index_salaries.step()\n",
    "incremental_sort_merge_join.step()\n",
    "print(f\"Incremental indexed ZSet stream join: {incremental_sort_merge_join.output().latest()}\")"
   ]
  },
  {
   "cell_type": "code",
   "execution_count": 36,
   "id": "0d33127d",
   "metadata": {},
   "outputs": [
    {
     "name": "stdout",
     "output_type": "stream",
     "text": [
      "Incremental ZSet stream join update: {(2, 'mike', '40000'): -1}\n"
     ]
    }
   ],
   "source": [
    "index_employees.step()\n",
    "incremental_sort_merge_join.step()\n",
    "print(f\"Incremental ZSet stream join update: {incremental_sort_merge_join.output().latest()}\")"
   ]
  },
  {
   "cell_type": "code",
   "execution_count": 37,
   "id": "0421a424",
   "metadata": {},
   "outputs": [],
   "source": [
    "from random import randrange\n",
    "\n",
    "names = (\"kristjan\", \"mark\", \"mike\")\n",
    "max_pay = 100000\n",
    "fake_data = [((i, names[randrange(len(names))] + str(i)), (i, randrange(max_pay))) for i in range(3, 10003)]\n",
    "batch_size = 500\n",
    "fake_data_batches = [fake_data[i: i + batch_size] for i in range(0, len(fake_data), batch_size)]\n",
    "\n",
    "for batch in fake_data_batches:\n",
    "    employees_stream.send(ZSet({employee: 1 for employee, _ in batch}))\n",
    "    salaries_stream.send(ZSet({salary: 1 for salary, _ in batch}))\n",
    "\n",
    "steps_to_take = len(fake_data_batches)\n"
   ]
  },
  {
   "cell_type": "code",
   "execution_count": 38,
   "id": "da3ec89b",
   "metadata": {},
   "outputs": [
    {
     "data": {
      "application/vnd.jupyter.widget-view+json": {
       "model_id": "b734392011684804b26a5eea4fb829e3",
       "version_major": 2,
       "version_minor": 0
      },
      "text/plain": [
       "  0%|          | 0/20 [00:00<?, ?it/s]"
      ]
     },
     "metadata": {},
     "output_type": "display_data"
    },
    {
     "name": "stdout",
     "output_type": "stream",
     "text": [
      "Time taken - on demand: 126.65267968177795s\n"
     ]
    }
   ],
   "source": [
    "from tqdm.notebook import tqdm\n",
    "from time import time\n",
    "\n",
    "time_start = time()\n",
    "measurements = []\n",
    "for _ in tqdm(range(steps_to_take)):\n",
    "    local_time = time()\n",
    "    integrated_employees.step()\n",
    "    integrated_salaries.step()\n",
    "    stream_join.step()\n",
    "    measurements.append(time() - local_time)\n",
    "print(f\"Time taken - on demand: {time() - time_start}s\")"
   ]
  },
  {
   "cell_type": "code",
   "execution_count": 84,
   "id": "04ca8b03",
   "metadata": {},
   "outputs": [
    {
     "name": "stdout",
     "output_type": "stream",
     "text": [
      "{(0, 'kristjan'): 1, (2, 'mike'): 1, (3, 'mike'): 1}\n",
      "{(0, 'kristjan'): 1, (2, 'mike'): 1, (3, 'mike'): 1}\n",
      "{(2, '40000'): 1, (0, '38750'): 1, (1, '50000'): 1, (3, '45000'): 1}\n",
      "{(0, 'kristjan', '38750'): 1, (2, 'mike', '40000'): 1, (3, 'mike', '45000'): 1}\n",
      "{(0, 'kristjan_abc', '38750'): 1, (2, 'mike_abc', '40000'): 1, (3, 'mike_abc', '45000'): 1}\n",
      "\n",
      "{(4, 'peter'): 1, (2, 'bea'): 1, (6, 'tim'): 1}\n",
      "{(4, 'peter'): 1, (2, 'bea'): 1, (6, 'tim'): 1}\n",
      "{(6, '42000'): 1, (4, '30000'): 1}\n",
      "{(4, 'peter', '30000'): 1, (6, 'tim', '42000'): 1, (2, 'bea', '40000'): 1}\n",
      "{(4, 'peter_abc', '30000'): 1, (6, 'tim_abc', '42000'): 1, (2, 'bea_abc', '40000'): 1}\n",
      "{(0, 'kristjan_abc', '38750'): 1, (2, 'mike_abc', '40000'): 1, (3, 'mike_abc', '45000'): 1, (4, 'peter_abc', '30000'): 1, (6, 'tim_abc', '42000'): 1, (2, 'bea_abc', '40000'): 1}\n"
     ]
    }
   ],
   "source": [
    "from pydbsp.indexed_zset.functions.bilinear import join_with_index\n",
    "from pydbsp.indexed_zset.operators.linear import LiftedIndex\n",
    "from pydbsp.stream import Stream, StreamHandle\n",
    "from pydbsp.stream.functions.linear import stream_elimination\n",
    "from pydbsp.stream.operators.bilinear import Incrementalize2\n",
    "from pydbsp.zset import ZSet, ZSetAddition\n",
    "from pydbsp.zset.operators.linear import LiftedSelect, LiftedProject\n",
    "from pydbsp.zset.operators.unary import DeltaLiftedDeltaLiftedDistinct\n",
    "\n",
    "employees = [(0, \"kristjan\"), (1, \"mark\"), (2, \"mike\"), (3, \"mike\")]\n",
    "salaries = [(2, \"40000\"), (0, \"38750\"), (1, \"50000\"), (3, \"45000\")]\n",
    "\n",
    "employees_zset = ZSet({k: 1 for k in employees})\n",
    "salaries_zset = ZSet({k: 1 for k in salaries})\n",
    "\n",
    "group = ZSetAddition()\n",
    "employees_stream = Stream(group)\n",
    "employees_stream_handle = StreamHandle(lambda: employees_stream)\n",
    "employees_stream.send(employees_zset)\n",
    "\n",
    "salaries_stream = Stream(group)\n",
    "salaries_stream_handle = StreamHandle(lambda: salaries_stream)\n",
    "salaries_stream.send(salaries_zset)\n",
    "\n",
    "# select\n",
    "\n",
    "# select * from employees where name <> 'mark'\n",
    "\n",
    "select_cmp = lambda x: x[1] != \"mark\"\n",
    "\n",
    "employees_selection = LiftedSelect(employees_stream_handle, select_cmp)\n",
    "employees_selection_handle = employees_selection.output_handle()\n",
    "\n",
    "# join\n",
    "\n",
    "join_projection = lambda left, right: (left[0], left[1], right[1])\n",
    "\n",
    "indexer = lambda x: x[0]\n",
    "index_employees = LiftedIndex(employees_selection_handle, indexer)\n",
    "index_salaries = LiftedIndex(salaries_stream_handle, indexer)\n",
    "join_with_indexing_projection = lambda key, left_value, right_value: (key, left_value[1], right_value[1])\n",
    "incremental_sort_merge_join = Incrementalize2(index_employees.output_handle(), index_salaries.output_handle(), lambda l, r: join_with_index(l, r, join_with_indexing_projection), group)\n",
    "incremental_sort_merge_join_handle = incremental_sort_merge_join.output_handle()\n",
    "\n",
    "# project\n",
    "\n",
    "project = lambda x: (x[0], x[1] + \"_abc\", x[2]) \n",
    "\n",
    "y = LiftedProject(incremental_sort_merge_join_handle, project)\n",
    "y_handle = y.output_handle()\n",
    "\n",
    "# # distinct\n",
    "\n",
    "# distinct = DeltaLiftedDeltaLiftedDistinct(y_handle)\n",
    "\n",
    "# Execute\n",
    "\n",
    "employees_selection.step()\n",
    "print(f\"{employees_selection.output().latest()}\")\n",
    "\n",
    "index_employees.step()\n",
    "print(f\"{index_employees.output().latest()}\")\n",
    "\n",
    "index_salaries.step()\n",
    "print(f\"{index_salaries.output().latest()}\")\n",
    "\n",
    "incremental_sort_merge_join.step()\n",
    "print(f\"{incremental_sort_merge_join.output().latest()}\")\n",
    "\n",
    "y.step()\n",
    "print(f\"{y.output().latest()}\")\n",
    "\n",
    "# distinct.step()\n",
    "# print(f\"{distinct.output().latest()}\")\n",
    "\n",
    "# new input\n",
    "\n",
    "print()\n",
    "\n",
    "new_employees = [(4, \"peter\"), (2, \"bea\"), (6, \"tim\")]\n",
    "new_salaries = [(6, \"42000\"), (4, \"30000\")]\n",
    "\n",
    "new_employees_zset = ZSet({k: 1 for k in new_employees})\n",
    "new_salaries_zset = ZSet({k: 1 for k in new_salaries})\n",
    "\n",
    "employees_stream.send(new_employees_zset)\n",
    "salaries_stream.send(new_salaries_zset)\n",
    "\n",
    "employees_selection.step()\n",
    "print(f\"{employees_selection.output().latest()}\")\n",
    "\n",
    "index_employees.step()\n",
    "print(f\"{index_employees.output().latest()}\")\n",
    "\n",
    "index_salaries.step()\n",
    "print(f\"{index_salaries.output().latest()}\")\n",
    "\n",
    "incremental_sort_merge_join.step()\n",
    "print(f\"{incremental_sort_merge_join.output().latest()}\")\n",
    "\n",
    "y.step()\n",
    "print(f\"{y.output().latest()}\")\n",
    "print(f\"{stream_elimination(y.output_handle().get())}\")\n"
   ]
  }
 ],
 "metadata": {
  "kernelspec": {
   "display_name": "venv",
   "language": "python",
   "name": "python3"
  },
  "language_info": {
   "codemirror_mode": {
    "name": "ipython",
    "version": 3
   },
   "file_extension": ".py",
   "mimetype": "text/x-python",
   "name": "python",
   "nbconvert_exporter": "python",
   "pygments_lexer": "ipython3",
   "version": "3.13.7"
  }
 },
 "nbformat": 4,
 "nbformat_minor": 5
}
